{
 "cells": [
  {
   "cell_type": "code",
   "execution_count": 22,
   "id": "04418c0d-9108-4bea-aa46-05a1b3dbed69",
   "metadata": {},
   "outputs": [
    {
     "name": "stdout",
     "output_type": "stream",
     "text": [
      "When Gutenburg invented the printing press in 1440, he wanted to mass-produce the hand-drawn caligraphy of monks. It’s hard to read if you’re not a medieval scholar, so don’t use it unless you’re really trying to recreate the middle ages.\n",
      "Old style fonts were the first “modern” fonts. They’re soft, warm, and still almost feel hand-drawn. They’re built for legibility, which make them fantastic text fonts. Use them when you want to evoke the Renaissance.\n",
      "Make old-style fonts less hand-drawn and chop the serifs off at right angles, and you get transitional fonts. This was the predominant font during the founding of the United States and has strong connotations with neoclassical architecture and art.\n",
      "Didot fonts create a stark contrast between thick vertical strokes and very thin horizontal ones. They have an air of elegance about them, which is why they’re popular fonts for luxury brands and fasion magazines. Not so great as text fonts though.\n",
      "Take a Didot font, make all the strokes the same width, and you get a slab serif. They’re a font created during the industrial revolution, primarly for titles, not for long runs of text.\n",
      "The industrial revolution brought about a need to advertise the resulting surplus of goods. Making slab serifs fonts really thick was a good way to stand out. You’ll also recognize fat face serifs in want-ads from the Westward Expansion in the United States.\n",
      "Slab serif fonts without the serifs don’t have much character, but that makes them really versatile, right? Max Miedinger certainly thought so when he invented Helvetica in 1957.\n",
      "Apply Bauhaus design aesthetics to typography, and you get geometric sans serif fonts. They’re like Grotesque fonts, but have rounder forms. They’re a classically modern font for the 1940s and 50s, but they’re hard to read, making them less suitable as text fonts.\n",
      "Geometric sans serif fonts lost their human character, so why not add a little hint of old-style serif into a sans serif font? You get a modern font that’s easy-to-read and has enough character to stand on its own as a display font.\n",
      "Now that we have web fonts, the sky’s the limit with how fancy we can get with our fonts. The last decade has seen an explosion in fancy font faces, many of which are best-suited for titles. These are great for adding unique character to a website’s headings.\n",
      "Monospace fonts are a fluke of history. They were designed specifically for the technical limitations of typewriters, ignoring many of the typographic principles that make for legible text. Don’t use them unless you’re marking up code snippets.\n"
     ]
    }
   ],
   "source": [
    "import requests\n",
    "from bs4 import BeautifulSoup\n",
    "\n",
    "r =  requests.get(\"https://internetingishard.netlify.app/html-and-css/web-typography/example/final/history\", \n",
    "                 headers={'User-agent': 'Mozilla/5.0 (X11; Ubuntu; Linux x86_64; rv:61.0) Gecko/20100101 Firefox/61.0'})\n",
    "c = r.content\n",
    "\n",
    "soup = BeautifulSoup(c, \"html.parser\")\n",
    "\n",
    "all_info = soup.find_all(\"section\", {\"class\": \"section\"})\n",
    "# all_info1 = soup.find_all(\"h2\")\n",
    "\n",
    "for item in all_info:\n",
    "    # print(item.find(\"h2\").text)\n",
    "    # print(item.find_all(\"h2\")[0].text)\n",
    "    # print(item.find(\"p\").text)\n",
    "    print(item.find_all(\"p\")[0].text)\n"
   ]
  }
 ],
 "metadata": {
  "kernelspec": {
   "display_name": "Python 3 (ipykernel)",
   "language": "python",
   "name": "python3"
  },
  "language_info": {
   "codemirror_mode": {
    "name": "ipython",
    "version": 3
   },
   "file_extension": ".py",
   "mimetype": "text/x-python",
   "name": "python",
   "nbconvert_exporter": "python",
   "pygments_lexer": "ipython3",
   "version": "3.12.1"
  }
 },
 "nbformat": 4,
 "nbformat_minor": 5
}
